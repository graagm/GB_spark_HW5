{
  "nbformat": 4,
  "nbformat_minor": 0,
  "metadata": {
    "colab": {
      "provenance": []
    },
    "kernelspec": {
      "name": "python3",
      "display_name": "Python 3"
    },
    "language_info": {
      "name": "python"
    }
  },
  "cells": [
    {
      "cell_type": "code",
      "execution_count": 1,
      "metadata": {
        "colab": {
          "base_uri": "https://localhost:8080/"
        },
        "id": "8amA6q-Q7f_b",
        "outputId": "e2815158-9858-4130-c30b-00d30357236f"
      },
      "outputs": [
        {
          "output_type": "stream",
          "name": "stdout",
          "text": [
            "Collecting pyspark\n",
            "  Downloading pyspark-3.5.1.tar.gz (317.0 MB)\n",
            "\u001b[2K     \u001b[90m━━━━━━━━━━━━━━━━━━━━━━━━━━━━━━━━━━━━━━━━\u001b[0m \u001b[32m317.0/317.0 MB\u001b[0m \u001b[31m2.3 MB/s\u001b[0m eta \u001b[36m0:00:00\u001b[0m\n",
            "\u001b[?25h  Preparing metadata (setup.py) ... \u001b[?25l\u001b[?25hdone\n",
            "Requirement already satisfied: py4j==0.10.9.7 in /usr/local/lib/python3.10/dist-packages (from pyspark) (0.10.9.7)\n",
            "Building wheels for collected packages: pyspark\n",
            "  Building wheel for pyspark (setup.py) ... \u001b[?25l\u001b[?25hdone\n",
            "  Created wheel for pyspark: filename=pyspark-3.5.1-py2.py3-none-any.whl size=317488491 sha256=f10c7c383d8b34bf51bba7846f9d6c68ac005a03512253865c14810a3472ffbc\n",
            "  Stored in directory: /root/.cache/pip/wheels/80/1d/60/2c256ed38dddce2fdd93be545214a63e02fbd8d74fb0b7f3a6\n",
            "Successfully built pyspark\n",
            "Installing collected packages: pyspark\n",
            "Successfully installed pyspark-3.5.1\n"
          ]
        }
      ],
      "source": [
        "!pip install pyspark"
      ]
    },
    {
      "cell_type": "code",
      "source": [
        "import pyspark\n",
        "from pyspark import SparkContext, SparkConf\n",
        "from pyspark.sql import SparkSession\n",
        "import pandas as pd\n",
        "import pyspark.sql.functions as f"
      ],
      "metadata": {
        "id": "n75PCbdG72DC"
      },
      "execution_count": 2,
      "outputs": []
    },
    {
      "cell_type": "markdown",
      "source": [
        "Создаем сессию"
      ],
      "metadata": {
        "id": "FblTN9Lc06mb"
      }
    },
    {
      "cell_type": "code",
      "source": [
        "sc.stop()"
      ],
      "metadata": {
        "id": "-8crdHn17rk9"
      },
      "execution_count": 7,
      "outputs": []
    },
    {
      "cell_type": "markdown",
      "source": [
        "— Используя Spark прочитайте данные из файла csv."
      ],
      "metadata": {
        "id": "siDUbwTm-eJq"
      }
    },
    {
      "cell_type": "code",
      "source": [
        "conf = SparkConf().setAppName(\"HomeWork_5\")\n",
        "\n",
        "sc = SparkContext(conf=conf)\n",
        "\n",
        "spark = SparkSession.builder.getOrCreate()\n",
        "\n",
        "csv_path_file = \"/content/sample_data/hw5.csv\"\n",
        "\n",
        "df = spark.read.csv(csv_path_file, header=True, inferSchema=True)\n",
        "\n",
        "df.show()"
      ],
      "metadata": {
        "colab": {
          "base_uri": "https://localhost:8080/"
        },
        "id": "KQkGKxf9X7Ng",
        "outputId": "f14abc13-b6c3-4507-e1e6-8f62dd6b298e"
      },
      "execution_count": 8,
      "outputs": [
        {
          "output_type": "stream",
          "name": "stdout",
          "text": [
            "+--------------------+--------------------+------------------+------+------+\n",
            "|               title|              author|             genre| sales|  year|\n",
            "+--------------------+--------------------+------------------+------+------+\n",
            "|                1984|     \"George Orwell\"| \"Science Fiction\"|5000.0|1949.0|\n",
            "|The Lord of the R...|    \"J.R.R. Tolkien\"|         \"Fantasy\"|3000.0|1954.0|\n",
            "|To Kill a Mocking...|        \"Harper Lee\"| \"Southern Gothic\"|4000.0|1960.0|\n",
            "|The Catcher in th...|     \"J.D. Salinger\"|           \"Novel\"|2000.0|1951.0|\n",
            "|    The Great Gatsby| \"F. Scott Fitzge...|           \"Novel\"|4500.0|1925.0|\n",
            "+--------------------+--------------------+------------------+------+------+\n",
            "\n"
          ]
        }
      ]
    },
    {
      "cell_type": "markdown",
      "source": [
        "— Фильтруйте данные, чтобы оставить только книги, продажи которых превышают 3000 экземпляров."
      ],
      "metadata": {
        "id": "KXmlzDGo-Z2K"
      }
    },
    {
      "cell_type": "code",
      "source": [
        "df_filtered_per_sales_qty = df.filter(df.sales > 3000)\n",
        "df_filtered_per_sales_qty.show()"
      ],
      "metadata": {
        "colab": {
          "base_uri": "https://localhost:8080/"
        },
        "id": "R6wJb8h7-oUS",
        "outputId": "ddc7ce1e-02a9-4373-e8b3-c50cf0b23e72"
      },
      "execution_count": 9,
      "outputs": [
        {
          "output_type": "stream",
          "name": "stdout",
          "text": [
            "+--------------------+--------------------+------------------+------+------+\n",
            "|               title|              author|             genre| sales|  year|\n",
            "+--------------------+--------------------+------------------+------+------+\n",
            "|                1984|     \"George Orwell\"| \"Science Fiction\"|5000.0|1949.0|\n",
            "|To Kill a Mocking...|        \"Harper Lee\"| \"Southern Gothic\"|4000.0|1960.0|\n",
            "|    The Great Gatsby| \"F. Scott Fitzge...|           \"Novel\"|4500.0|1925.0|\n",
            "+--------------------+--------------------+------------------+------+------+\n",
            "\n"
          ]
        }
      ]
    },
    {
      "cell_type": "markdown",
      "source": [
        "— Сгруппируйте данные по жанру и вычислите общий объем продаж для каждого жанра."
      ],
      "metadata": {
        "id": "FrGpa89E_EPl"
      }
    },
    {
      "cell_type": "code",
      "source": [
        "df_group_per_genre_sum_sales = df.groupBy(\"genre\").sum()\n",
        "df_group_per_genre_sum_sales.show()"
      ],
      "metadata": {
        "colab": {
          "base_uri": "https://localhost:8080/"
        },
        "id": "3UJx8r35_Hwa",
        "outputId": "8f938d76-2583-4bfc-9aa5-0646bd681b36"
      },
      "execution_count": 11,
      "outputs": [
        {
          "output_type": "stream",
          "name": "stdout",
          "text": [
            "+------------------+----------+---------+\n",
            "|             genre|sum(sales)|sum(year)|\n",
            "+------------------+----------+---------+\n",
            "| \"Southern Gothic\"|    4000.0|   1960.0|\n",
            "| \"Science Fiction\"|    5000.0|   1949.0|\n",
            "|           \"Novel\"|    6500.0|   3876.0|\n",
            "|         \"Fantasy\"|    3000.0|   1954.0|\n",
            "+------------------+----------+---------+\n",
            "\n"
          ]
        }
      ]
    },
    {
      "cell_type": "markdown",
      "source": [
        "— Отсортируйте данные по общему объему продаж в порядке убывания.\n",
        "— Выведите результаты на экран."
      ],
      "metadata": {
        "id": "fGfKNOjYAAxN"
      }
    },
    {
      "cell_type": "markdown",
      "source": [],
      "metadata": {
        "id": "uQplofOl_9LY"
      }
    },
    {
      "cell_type": "code",
      "source": [
        "df_sorted_per_sales_dist = df.orderBy(f.desc(\"sales\"))\n",
        "df_sorted_per_sales_dist.show()"
      ],
      "metadata": {
        "colab": {
          "base_uri": "https://localhost:8080/"
        },
        "id": "LDm2kyhE_vVq",
        "outputId": "a404573c-45ae-4201-8b3e-1fac2962cfaa"
      },
      "execution_count": 20,
      "outputs": [
        {
          "output_type": "stream",
          "name": "stdout",
          "text": [
            "+--------------------+--------------------+------------------+------+------+\n",
            "|               title|              author|             genre| sales|  year|\n",
            "+--------------------+--------------------+------------------+------+------+\n",
            "|                1984|     \"George Orwell\"| \"Science Fiction\"|5000.0|1949.0|\n",
            "|    The Great Gatsby| \"F. Scott Fitzge...|           \"Novel\"|4500.0|1925.0|\n",
            "|To Kill a Mocking...|        \"Harper Lee\"| \"Southern Gothic\"|4000.0|1960.0|\n",
            "|The Lord of the R...|    \"J.R.R. Tolkien\"|         \"Fantasy\"|3000.0|1954.0|\n",
            "|The Catcher in th...|     \"J.D. Salinger\"|           \"Novel\"|2000.0|1951.0|\n",
            "+--------------------+--------------------+------------------+------+------+\n",
            "\n"
          ]
        }
      ]
    },
    {
      "cell_type": "markdown",
      "source": [
        "# Новый раздел"
      ],
      "metadata": {
        "id": "u8zFcAAC8KcP"
      }
    },
    {
      "cell_type": "markdown",
      "source": [
        "Объявление серии"
      ],
      "metadata": {
        "id": "4WC1RP0J0-DN"
      }
    }
  ]
}